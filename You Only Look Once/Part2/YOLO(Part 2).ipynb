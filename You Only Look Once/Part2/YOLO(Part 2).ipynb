{
 "cells": [
  {
   "cell_type": "code",
   "execution_count": null,
   "metadata": {},
   "outputs": [],
   "source": [
    "import cv2\n",
    "from darkflow.net.build import TFNet\n",
    "import numpy as np\n",
    "import time\n",
    "\n",
    "option ={\n",
    "    'model': 'cfg/yolo.cfg',\n",
    "    'load': 'yolo.weights',\n",
    "    'threshold': 0.15,\n",
    "}\n",
    "\n",
    "tfnet = TFNet(option)"
   ]
  },
  {
   "cell_type": "code",
   "execution_count": 9,
   "metadata": {},
   "outputs": [],
   "source": [
    "capture = cv2.VideoCapture('Part2/video_20fps.mp4')\n",
    "colors = [tuple(255 * np.random.rand(3)) for i in range(5)]\n",
    "\n",
    "while (capture.isOpened()):\n",
    "    stime = time.time()\n",
    "    ret, frame = capture.read()\n",
    "    results = tfnet.return_predicate(frame)\n",
    "    if ret:\n",
    "        for color, result in zip(colors, results):\n",
    "            top_x = result['topleft']['x']\n",
    "            top_y = result['topleft']['y']\n",
    "\n",
    "            btm_x = result['bottomright']['x']\n",
    "            btm_y = result['bottomright']['y']\n",
    "\n",
    "            confidence = result['confidence']\n",
    "            label = result['label'] + str(round(confidence, 3))\n",
    "            \n",
    "            frame = cv2.rectangle(frame, (top_x, top_y), (btm_x, btm_y), color, 7)\n",
    "            frame = cv2.putText(frame, label, (top_x, top_y), cv2.FONT_HERSHEY_COMPLEX, 1, (0,0,0), 2)\n",
    "        cv2.imshow('frame', frame)\n",
    "        print('FPS:', 1/(time.time() - stime))\n",
    "        if cv2.waitKey(1) & 0xFF == ord('q'):\n",
    "            break\n",
    "    else:\n",
    "        capture.release()\n",
    "        cv2.destroyAllWindows()\n",
    "        break"
   ]
  }
 ],
 "metadata": {
  "kernelspec": {
   "display_name": "Python 3",
   "language": "python",
   "name": "python3"
  },
  "language_info": {
   "codemirror_mode": {
    "name": "ipython",
    "version": 3
   },
   "file_extension": ".py",
   "mimetype": "text/x-python",
   "name": "python",
   "nbconvert_exporter": "python",
   "pygments_lexer": "ipython3",
   "version": "3.6.7"
  }
 },
 "nbformat": 4,
 "nbformat_minor": 2
}
